{
  "nbformat": 4,
  "nbformat_minor": 0,
  "metadata": {
    "colab": {
      "provenance": [],
      "authorship_tag": "ABX9TyOdq0fMBdJe/KVhXMiLaC4D",
      "include_colab_link": true
    },
    "kernelspec": {
      "name": "python3",
      "display_name": "Python 3"
    },
    "language_info": {
      "name": "python"
    }
  },
  "cells": [
    {
      "cell_type": "markdown",
      "metadata": {
        "id": "view-in-github",
        "colab_type": "text"
      },
      "source": [
        "<a href=\"https://colab.research.google.com/github/alu230360-sr/Repaso-de-Python/blob/main/EduardoAO.ipynb\" target=\"_parent\"><img src=\"https://colab.research.google.com/assets/colab-badge.svg\" alt=\"Open In Colab\"/></a>"
      ]
    },
    {
      "cell_type": "code",
      "execution_count": null,
      "metadata": {
        "id": "dPo_mkh6-77_"
      },
      "outputs": [],
      "source": []
    },
    {
      "cell_type": "markdown",
      "source": [
        "Realizar un programa que permita capturar tu nombre y lo imprima seguido de una bienvenida"
      ],
      "metadata": {
        "id": "80F6IFrQ_OwQ"
      }
    },
    {
      "cell_type": "code",
      "source": [
        "print (\"hola mundo\")"
      ],
      "metadata": {
        "colab": {
          "base_uri": "https://localhost:8080/"
        },
        "id": "njwcIfSN_fSl",
        "outputId": "af40d2da-4357-4dc8-b734-50f9c8beda1e"
      },
      "execution_count": 1,
      "outputs": [
        {
          "output_type": "stream",
          "name": "stdout",
          "text": [
            "hola mundo\n"
          ]
        }
      ]
    },
    {
      "cell_type": "code",
      "source": [
        "print(\"tu nombre\")\n",
        "nombre = input(\"ingresa tu nombre\")\n",
        "print(\"tu nombre es\", nombre,\"Bienvenido\")"
      ],
      "metadata": {
        "colab": {
          "base_uri": "https://localhost:8080/"
        },
        "id": "S7vDni8K_rRk",
        "outputId": "4f515e96-cd4c-41d6-dc10-01efd37320be"
      },
      "execution_count": 3,
      "outputs": [
        {
          "output_type": "stream",
          "name": "stdout",
          "text": [
            "tu nombre\n",
            "ingresa tu nombre eduardo\n",
            "tu nombre es  eduardo Bienvenido\n"
          ]
        }
      ]
    },
    {
      "cell_type": "markdown",
      "source": [
        "realiza un programa que permita capturar 2 numeros enteros e imprima la suma, la resta, la multiplicacion y la division entre ellos"
      ],
      "metadata": {
        "id": "2XqgEttrC-n7"
      }
    },
    {
      "cell_type": "code",
      "source": [
        "num1=int(input(\"captura un numero\"))\n",
        "num2=int(input(\"captura un numero\"))\n",
        "s=num1+num2\n",
        "r=num1-num2\n",
        "m=num1*num2\n",
        "d=num1/num2\n",
        "\n",
        "print(\"la suma es: \",s)\n",
        "print(\"la resta es: \",r)\n",
        "print(\"la multiplicacion es: \",m)\n",
        "print(\"la division es: \",d)\n",
        "\n",
        "\n",
        "\n"
      ],
      "metadata": {
        "colab": {
          "base_uri": "https://localhost:8080/"
        },
        "id": "BM1SUHBEDZsy",
        "outputId": "89a46372-7bf4-4c95-d780-39123f1a1c32"
      },
      "execution_count": 4,
      "outputs": [
        {
          "output_type": "stream",
          "name": "stdout",
          "text": [
            "captura un numero5\n",
            "captura un numero5\n",
            "la suma es:  10\n",
            "la resta es:  0\n",
            "la multiplicacion es:  25\n",
            "la division es:  1.0\n"
          ]
        }
      ]
    }
  ]
}