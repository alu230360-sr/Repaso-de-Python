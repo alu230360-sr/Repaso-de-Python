{
  "nbformat": 4,
  "nbformat_minor": 0,
  "metadata": {
    "colab": {
      "provenance": [],
      "authorship_tag": "ABX9TyN0a4YCis/rrNV11UlFHGgo",
      "include_colab_link": true
    },
    "kernelspec": {
      "name": "python3",
      "display_name": "Python 3"
    },
    "language_info": {
      "name": "python"
    }
  },
  "cells": [
    {
      "cell_type": "markdown",
      "metadata": {
        "id": "view-in-github",
        "colab_type": "text"
      },
      "source": [
        "<a href=\"https://colab.research.google.com/github/alu230360-sr/Repaso-de-Python/blob/main/3codigoseao.ipynb\" target=\"_parent\"><img src=\"https://colab.research.google.com/assets/colab-badge.svg\" alt=\"Open In Colab\"/></a>"
      ]
    },
    {
      "cell_type": "code",
      "execution_count": null,
      "metadata": {
        "id": "lgDdDL4J_Ngy"
      },
      "outputs": [],
      "source": []
    },
    {
      "cell_type": "markdown",
      "source": [
        "1.- Realizar un programa en python que te permita capturar 3 números enteros e imprima cual de los 3 es el mayor"
      ],
      "metadata": {
        "id": "x5Tnejby_T7g"
      }
    },
    {
      "cell_type": "code",
      "source": [
        "num1=int(input(\"ingresa el primer numero: \"))\n",
        "num2=int(input(\"ingresa el primer numero: \"))\n",
        "num3=int(input(\"ingresa el primer numero: \"))\n",
        "\n",
        "if num1 > num2 and num1 > num3:\n",
        "  print(\"el numero mayor es: \",num1)\n",
        "  if num2 > num1 and num2 > num3:\n",
        "    print(\"el numero mayor es:\", num2)\n",
        "    if num3 > num2 and num3 > num1:\n",
        "      print(\"el numero mayor es:\", num3)\n",
        "\n"
      ],
      "metadata": {
        "colab": {
          "base_uri": "https://localhost:8080/"
        },
        "id": "kkY4PWJz_iZx",
        "outputId": "65dfd3af-cdf7-4232-e0ba-9309b73f2fc7"
      },
      "execution_count": 5,
      "outputs": [
        {
          "output_type": "stream",
          "name": "stdout",
          "text": [
            "ingresa el primer numero: 8\n",
            "ingresa el primer numero: 6\n",
            "ingresa el primer numero: 4\n",
            "el numero mayor es:  8\n"
          ]
        }
      ]
    },
    {
      "cell_type": "markdown",
      "source": [
        "2.- Realizar un programa en python mediante el cual calcules el total de caracteres que tiene un nombre capturado desde el teclado."
      ],
      "metadata": {
        "id": "febsey6hCn_l"
      }
    },
    {
      "cell_type": "code",
      "source": [
        "palabra = input(\"ingresa una palabra: \")\n",
        "caracteres = len(palabra)\n",
        "print(\"la palabra tiene\", caracteres, \"caracteres.\")"
      ],
      "metadata": {
        "colab": {
          "base_uri": "https://localhost:8080/"
        },
        "id": "vkyNfT2bCpYN",
        "outputId": "1520d116-876a-4467-c109-41d578fb645c"
      },
      "execution_count": 6,
      "outputs": [
        {
          "output_type": "stream",
          "name": "stdout",
          "text": [
            "ingresa una palabra: eduardo\n",
            "la palabra tiene 7 caracteres.\n"
          ]
        }
      ]
    },
    {
      "cell_type": "markdown",
      "source": [
        "3.- Realizar un programa en python que permita imprimir los 7 días de la semana."
      ],
      "metadata": {
        "id": "axWaN8tHDXp7"
      }
    },
    {
      "cell_type": "code",
      "source": [
        "respuesta = input(\"presiona 0 para los dias de la semana y 2 para cerrar el programa: \")\n",
        "if respuesta == '0':\n",
        "  print(\"lunes\")\n",
        "  print(\"martes\")\n",
        "  print(\"miercoles\")\n",
        "  print(\"jueves\")\n",
        "  print(\"viernes\")\n",
        "  print(\"sabado\")\n",
        "  print(\"domingo\")\n",
        "\n",
        "\n",
        "else:\n",
        "    print(\"adios\")"
      ],
      "metadata": {
        "colab": {
          "base_uri": "https://localhost:8080/"
        },
        "id": "yT8oFgaXDYZa",
        "outputId": "ef830dcc-4a8f-4f81-e3f1-f7da0a20cb4b"
      },
      "execution_count": 8,
      "outputs": [
        {
          "output_type": "stream",
          "name": "stdout",
          "text": [
            "presiona 0 para los dias de la semana y 2 para cerrar el programa: 0\n",
            "lunes\n",
            "martes\n",
            "miercoles\n",
            "jueves\n",
            "viernes\n",
            "sabado\n",
            "domingo\n"
          ]
        }
      ]
    }
  ]
}